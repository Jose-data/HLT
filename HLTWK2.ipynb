{
 "metadata": {
  "language_info": {
   "codemirror_mode": {
    "name": "ipython",
    "version": 3
   },
   "file_extension": ".py",
   "mimetype": "text/x-python",
   "name": "python",
   "nbconvert_exporter": "python",
   "pygments_lexer": "ipython3",
   "version": "3.9.4"
  },
  "orig_nbformat": 2,
  "kernelspec": {
   "name": "python394jvsc74a57bd066b5cfc2cf498ccf84890212d496c1a820253a44bf757b6a6b05fadf2b35bbe5",
   "display_name": "Python 3.9.4 64-bit (windows store)"
  },
  "metadata": {
   "interpreter": {
    "hash": "66b5cfc2cf498ccf84890212d496c1a820253a44bf757b6a6b05fadf2b35bbe5"
   }
  }
 },
 "nbformat": 4,
 "nbformat_minor": 2,
 "cells": [
  {
   "cell_type": "code",
   "execution_count": null,
   "metadata": {},
   "outputs": [],
   "source": [
    "def menuOrder(quantity, item_list):            # The parameters quantity and item_list must be defined with the function menuOrder\n",
    "    global total                               # global keyword is used to include the variable 'total' inside a local variable\n",
    "    if quantity > item_list[2]:                # item_list[n]: n= range of items in each list (0-2)\n",
    "        print(\"There is not enough stock!\")\n",
    "        pass\n",
    "    else:\n",
    "        total += item_list[1] * quantity\n",
    "        item_list[2] -= quantity\n",
    "\n",
    "total = 0                                      # total must be initialised to zero\n",
    "A = ['Burger', float(1.50), 40], ['Fries', float(0.50), 150], ['Coca cola', float(2.00), 30], ['Vegetable salad', float(1.20), 70]\n",
    "        \n",
    "print(\"Welcome to Joe's Corner\")               # Number of items in stock is given as 40, 150, 30 and 70 respectively\n",
    "\n",
    "while True:\n",
    "    choice =  input(\"What would you like?\").upper()       #.upper() is used to ensure that if any assigned string is enter it must be                                                             in capital letters to minimise error output\n",
    "    quantity =  int(input('How many would you like?'))\n",
    "\n",
    "    if choice == 'BURGER':\n",
    "      menuOrder(quantity, A[0])\n",
    "      print('[1]', A[0][0:2])\n",
    "    \n",
    "    elif choice == 'FRIES':\n",
    "        menuOrder(quantity, A[1])\n",
    "        print('[2]', A[1][0:2])\n",
    "\n",
    "    elif choice == 'COCA COLA':\n",
    "        menuOrder(quantity, A[2])\n",
    "        print('[3]', A[2][0:2])\n",
    "\n",
    "    elif choice == 'VEGETABLE SALAD':\n",
    "        menuOrder(quantity, A[3])\n",
    "        print('[4]', A[3][0:3])\n",
    "    \n",
    "    else:\n",
    "        print(\"Item not found\")\n",
    "\n",
    "    more_items = (input(\"Do you want to order more items?\")).lower()    #.lower() is also included to check for case sensitive strings\n",
    "    if more_items == \"yes\":\n",
    "        pass\n",
    "    else:\n",
    "        break\n",
    "\n",
    "print('Thank you for ordering!\\nYour total cost is: £' +  str(total))"
   ]
  }
 ]
}