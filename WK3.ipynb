{
 "metadata": {
  "language_info": {
   "codemirror_mode": {
    "name": "ipython",
    "version": 3
   },
   "file_extension": ".py",
   "mimetype": "text/x-python",
   "name": "python",
   "nbconvert_exporter": "python",
   "pygments_lexer": "ipython3",
   "version": "3.9.5"
  },
  "orig_nbformat": 2,
  "kernelspec": {
   "name": "python395jvsc74a57bd066b5cfc2cf498ccf84890212d496c1a820253a44bf757b6a6b05fadf2b35bbe5",
   "display_name": "Python 3.9.5 64-bit (windows store)"
  },
  "metadata": {
   "interpreter": {
    "hash": "66b5cfc2cf498ccf84890212d496c1a820253a44bf757b6a6b05fadf2b35bbe5"
   }
  }
 },
 "nbformat": 4,
 "nbformat_minor": 2,
 "cells": [
  {
   "cell_type": "code",
   "execution_count": null,
   "metadata": {},
   "outputs": [],
   "source": [
    "# Solution to task 1\n",
    "\n",
    "myFile = open('Numbers.txt','w')\n",
    "\n",
    "first_num = int(input('Enter the first number: '))\n",
    "sec_num = int(input('Enter the second number: '))\n",
    "third_num = int(input('Enter the third number: '))\n",
    "fourth_num = int(input('Enter the fourth number: '))\n",
    "\n",
    "myFile.write(f'{first_num} {sec_num}\\n {third_num}\\n {fourth_num}'))\n",
    "\n",
    "myFile.close()\n",
    "    "
   ]
  },
  {
   "cell_type": "code",
   "execution_count": null,
   "metadata": {},
   "outputs": [],
   "source": [
    "#Solution to task 2\n",
    "firstScore = float(input('Enter your 1st score: '))\n",
    "secondScore = float(input('Enter your 2nd score: '))\n",
    "total = firstScore + secondScore\n",
    "percentage = (total/200) * 100\n",
    "    \n",
    "print('Total Marks = %.2f' %total)\n",
    "print('Marks percentage = %.2f' %percentage)\n",
    "\n",
    "def mark_grade():   \n",
    "    if (percentage >= 70):\n",
    "        print('You had an A')\n",
    "    elif (percentage >= 60) : \n",
    "        print('You had a B')\n",
    "    elif (percentage >= 50) :\n",
    "        print('You had a C')\n",
    "    elif (percentage >= 45) :\n",
    "        print('You had a D')\n",
    "    elif (percentage >= 40) :\n",
    "        print('You had an E')\n",
    "    else:\n",
    "        print('Try again!')\n",
    "\n",
    "mark_grade()   "
   ]
  },
  {
   "cell_type": "code",
   "execution_count": null,
   "metadata": {},
   "outputs": [],
   "source": [
    "#Solution to NumPy HL task 1\n",
    "# Create a 1D array of numbers from 0-9\n",
    "import numpy as np \n",
    "\n",
    "num = np.arange(0,10)\n",
    "print(num)"
   ]
  },
  {
   "cell_type": "code",
   "execution_count": null,
   "metadata": {},
   "outputs": [],
   "source": [
    "# Solution to NumPy HL task 2\n",
    "# Create a 3 by 3 Numpy array of all Boolean value True\n",
    "\n",
    "values = np.full((3,3),True,dtype=bool)\n",
    "print(values)"
   ]
  },
  {
   "cell_type": "code",
   "execution_count": null,
   "metadata": {},
   "outputs": [],
   "source": [
    "# Solution to NumPy HL task 3\n",
    "# Extract all odd numbers from array of 1-10\n",
    "array = np.arange(10)\n",
    "print(array[1::2])\n",
    "\n"
   ]
  },
  {
   "cell_type": "code",
   "execution_count": null,
   "metadata": {},
   "outputs": [],
   "source": [
    "# Solution to NumPy HL task 4\n",
    "# Replace all odd numbers in an array of 1 10 with the value 1\n",
    "array[array[1::2]] = -1\n",
    "print(array)"
   ]
  },
  {
   "cell_type": "code",
   "execution_count": null,
   "metadata": {},
   "outputs": [],
   "source": [
    "# Solution to NumPy HL task 5\n",
    "# Convert a 1D array to a 2D array with 2 rows\n",
    "num = np.arange(10).reshape(2,5)\n",
    "print(num)"
   ]
  },
  {
   "cell_type": "code",
   "execution_count": null,
   "metadata": {},
   "outputs": [],
   "source": [
    "# Solution to NumPy HL task 6\n",
    "# Create two arrays a and b, stack these two arrays vertically use the np.dot and np.sum to calculate totals\n",
    "a = np.arange(1,10)\n",
    "b = np.arange(1,10)\n",
    "print(a,b)\n",
    "\n",
    "stack_items = np.vstack((a,b))\n",
    "print(stack_items)\n",
    "\n",
    "sum_items = np.sum((a,b))\n",
    "print(sum_items)\n",
    "\n",
    "dot_items = np.dot(a,b)\n",
    "print(dot_items)"
   ]
  },
  {
   "cell_type": "code",
   "execution_count": 51,
   "metadata": {},
   "outputs": [
    {
     "output_type": "stream",
     "name": "stdout",
     "text": [
      "[1. 1. 1. 2. 2. 2. 3. 3. 3. 1. 2. 3. 1. 2. 3. 1. 2. 3.]\n"
     ]
    }
   ],
   "source": [
    "# Solution to extension 1\n",
    "# Create the following pattern without hardcoding. Use only NumPy functions \n",
    "\n",
    "a =np.ones(3)\n",
    "b = np.ones(3)*2\n",
    "c = np.ones(3)*3\n",
    "d = np.arange(1,4)\n",
    "e = d\n",
    "f = d = e\n",
    "pattern = np.concatenate((a,b,c,d,e,f))\n",
    "print(pattern)"
   ]
  },
  {
   "cell_type": "code",
   "execution_count": null,
   "metadata": {},
   "outputs": [],
   "source": [
    "# Solution to extension 2 \n",
    "\n",
    "a = np.array([1,2,3,4,5])\n",
    "b = np.array([4,5,6,7,8,9])\n",
    "removed_items = np.setdiff1d(b,a)\n",
    "print(removed_items)"
   ]
  },
  {
   "cell_type": "code",
   "execution_count": null,
   "metadata": {},
   "outputs": [],
   "source": [
    "# Solution to extension 3\n",
    "a = np.array([1,2,3,4,5])\n",
    "b = np.array([4,5,6,7,8,9])\n",
    "conc = np.concatenate((a,b))\n",
    "print(conc)\n",
    "\n",
    "conc1 = conc[2:9]       # Get all items between 3 and 7\n",
    "sum_ab = np.sum(conc1)\n",
    "print(conc1)\n",
    "print(sum_ab)"
   ]
  }
 ]
}
