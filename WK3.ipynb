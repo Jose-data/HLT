{
 "metadata": {
  "language_info": {
   "codemirror_mode": {
    "name": "ipython",
    "version": 3
   },
   "file_extension": ".py",
   "mimetype": "text/x-python",
   "name": "python",
   "nbconvert_exporter": "python",
   "pygments_lexer": "ipython3",
   "version": "3.9.5"
  },
  "orig_nbformat": 2,
  "kernelspec": {
   "name": "python395jvsc74a57bd066b5cfc2cf498ccf84890212d496c1a820253a44bf757b6a6b05fadf2b35bbe5",
   "display_name": "Python 3.9.5 64-bit (windows store)"
  },
  "metadata": {
   "interpreter": {
    "hash": "66b5cfc2cf498ccf84890212d496c1a820253a44bf757b6a6b05fadf2b35bbe5"
   }
  }
 },
 "nbformat": 4,
 "nbformat_minor": 2,
 "cells": [
  {
   "cell_type": "code",
   "execution_count": null,
   "metadata": {},
   "outputs": [],
   "source": [
    "# Solution to task 1\n",
    "\n",
    "myFile = open('Numbers.txt','w')\n",
    "\n",
    "first_num = int(input('Enter the first number: '))\n",
    "sec_num = int(input('Enter the second number: '))\n",
    "third_num = int(input('Enter the third number: '))\n",
    "fourth_num = int(input('Enter the fourth number: '))\n",
    "\n",
    "myFile.write(f'{first_num}\\n {sec_num}\\n {third_num}\\n {fourth_num}')\n",
    "\n",
    "myFile.close()"
   ]
  },
  {
   "cell_type": "code",
   "execution_count": null,
   "metadata": {},
   "outputs": [],
   "source": []
  },
  {
   "cell_type": "code",
   "execution_count": 9,
   "metadata": {
    "tags": []
   },
   "outputs": [],
   "source": [
    "# Solution to task 2\n",
    "\n",
    "def floatchecker(nb):\n",
    "    try: \n",
    "        num >= float(nb)\n",
    "        return num\n",
    "    except:\n",
    "        return None\n",
    "\n",
    "def mark_grade(percentage):\n",
    "    grade_pattern = [('A', 70),('B',69),('C',59),('D',49),('E',45),('F',39)]\n",
    "\n",
    "    for mark in grades:\n",
    "        if percentage >= mark[1]:\n",
    "            print(f'Your score in percentage is {percentage:.2f}%, and in grade is {mark[0]}')\n",
    "            break\n",
    "\n",
    "    while True:\n",
    "        stud_grade = input('Enter your grade in percentage: ')\n",
    "        num = floatchecker(stud_grade)\n",
    "\n",
    "        if num != None and num in range(0,101):\n",
    "            stud_mark = mark_grade(num)\n",
    "            break\n",
    "        else:\n",
    "            print('You failed, please try again!')"
   ]
  },
  {
   "cell_type": "code",
   "execution_count": null,
   "metadata": {},
   "outputs": [],
   "source": []
  }
 ]
}