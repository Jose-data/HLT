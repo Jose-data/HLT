{
 "metadata": {
  "language_info": {
   "codemirror_mode": {
    "name": "ipython",
    "version": 3
   },
   "file_extension": ".py",
   "mimetype": "text/x-python",
   "name": "python",
   "nbconvert_exporter": "python",
   "pygments_lexer": "ipython3",
   "version": "3.9.4"
  },
  "orig_nbformat": 2,
  "kernelspec": {
   "name": "python394jvsc74a57bd03ba24cbdd7eff0f45da26495ec6c85106a8319c11793ba2062ec7f7df0ea536b",
   "display_name": "Python 3.9.4 64-bit ('PythonSoftwareFoundation.Python.3.9_qbz5n2kfra8p0')"
  },
  "metadata": {
   "interpreter": {
    "hash": "3ba24cbdd7eff0f45da26495ec6c85106a8319c11793ba2062ec7f7df0ea536b"
   }
  }
 },
 "nbformat": 4,
 "nbformat_minor": 2,
 "cells": [
  {
   "cell_type": "code",
   "execution_count": 61,
   "metadata": {},
   "outputs": [
    {
     "output_type": "stream",
     "name": "stdout",
     "text": [
      "Well Joseph I am thinking of a number between 1 and 10.\n",
      "Sorry, the number is 9\n"
     ]
    }
   ],
   "source": [
    "# This is the solution to task 1\n",
    "\n",
    "import random\n",
    "num = random.randint(1,10)          #Generates random numbers between 1 and 10\n",
    "\n",
    "name = input('Enter your name: ')   #Prompts the user for a name\n",
    "print('Well',name,'I am thinking of a number between 1 and 10.')\n",
    "\n",
    "guess = int(input('Enter your guess:'))\n",
    "\n",
    "if guess == num:\n",
    "    print('Good job '+ name +'! you guessed my number')\n",
    "else:\n",
    "    print('Sorry, the number is',num)    "
   ]
  },
  {
   "cell_type": "code",
   "execution_count": 62,
   "metadata": {},
   "outputs": [
    {
     "output_type": "stream",
     "name": "stdout",
     "text": [
      "Knock knock!\n"
     ]
    }
   ],
   "source": [
    "# This is the solution to task 2\n",
    "\n",
    "user_input = int(input('Enter any number between 1 and 100: '))\n",
    "\n",
    "if user_input <= 10:\n",
    "    print('Knock knock!')\n",
    "\n",
    "elif user_input <= 50:\n",
    "    print('Who is there?')\n",
    "\n",
    "elif user_input < 100:\n",
    "    print('Mr Cow Who? Moo!!!')\n",
    "\n",
    "else:\n",
    "    print('The joke has ended')\n",
    "\n"
   ]
  },
  {
   "cell_type": "code",
   "execution_count": null,
   "metadata": {},
   "outputs": [],
   "source": [
    "# This is the solution to task 3\n",
    "\n",
    "starter = input('What do you want for starter? ')\n",
    "main = input('What is your main course? ')\n",
    "dessert = input('What is your preferred dessert? ')\n",
    "drink = input('Enter your favourite drink: ')\n",
    "myOrder = 'Your favourite meal is '+ starter + main +' and '+dessert+' with a glass of '+drink\n",
    "print(myOrder)\n"
   ]
  },
  {
   "cell_type": "code",
   "execution_count": null,
   "metadata": {
    "tags": [
     "outputPrepend"
    ]
   },
   "outputs": [],
   "source": [
    "# This is the solution to task 4\n",
    "\n",
    "item_price = 2000   # price of the motorbike\n",
    "year = 2021\n",
    "depreciation = 0.1  # Depreciation value at 10%\n",
    "\n",
    "j = 0\n",
    "if item_price >= 1000:\n",
    "    exit\n",
    "while j < item_price:\n",
    "    dep_price = int(item_price * depreciation)  # Depreciation price = price of the motorbike * depreciation value at 10%\n",
    "    dep_value = int(item_price - dep_price)     # Depreciation value = price of the motorbike - Depreciation price\n",
    "    item_price = int(dep_value)\n",
    "    j += 1\n",
    "    year += 1\n",
    "    print( 'In', year, 'the motorbike value will be £', item_price, 'depreciating at £',dep_price)\n",
    "\n",
    "\n",
    "    "
   ]
  },
  {
   "cell_type": "code",
   "execution_count": null,
   "metadata": {},
   "outputs": [],
   "source": [
    "# this is the solution to task 5\n",
    "\n",
    "operation = input('''\n",
    "Please type in the math operation you would like to complete:\n",
    "a) + for addition\n",
    "b) - for subtraction\n",
    "c) / for division\n",
    "d) * for multiplication\n",
    "e) ** for exponentiation (power of)\n",
    "f) % for modulo\n",
    "''')\n",
    "\n",
    "first_num = int(input('Enter your first number: '))\n",
    "sec_num = int(input('Enter your second number: '))\n",
    "\n",
    "a = '+'\n",
    "b = '-'\n",
    "c = '/'\n",
    "d = '*'\n",
    "e = '**'\n",
    "f = '%'\n",
    "\n",
    "\n",
    "if operation == a:\n",
    "    print('{} + {} ='.format(first_num,sec_num))\n",
    "    print(first_num + sec_num)\n",
    "elif operation == b:\n",
    "    print('{} - {} ='.format(first_num,sec_num))\n",
    "    print(first_num - sec_num)\n",
    "elif operation == c:\n",
    "    print('{} / {} ='.format(first_num,sec_num))\n",
    "    print(first_num / sec_num)\n",
    "elif operation == d:\n",
    "    print('{} * {} ='.format(first_num,sec_num))\n",
    "    print(first_num * sec_num)\n",
    "elif operation == e:\n",
    "    print('{} ** {} ='.format(first_num,sec_num))\n",
    "    print(first_num ** sec_num)\n",
    "elif operation == f:\n",
    "    print('{} % {} ='.format(first_num,sec_num))\n",
    "    print(first_num % sec_num)\n",
    "else:\n",
    "    print('You have entered an invalid operator, please try again')"
   ]
  }
 ]
}